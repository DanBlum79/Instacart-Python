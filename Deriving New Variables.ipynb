{
 "cells": [
  {
   "cell_type": "code",
   "execution_count": 1,
   "id": "02fa71ef",
   "metadata": {},
   "outputs": [],
   "source": [
    "# Import Libraries\n",
    "import pandas as pd\n",
    "import numpy as np\n",
    "import os"
   ]
  },
  {
   "cell_type": "code",
   "execution_count": 2,
   "id": "6992ff7b",
   "metadata": {},
   "outputs": [
    {
     "data": {
      "text/plain": [
       "'C:\\\\Users\\\\Nurse Blum\\\\Instacart Basket Analysis'"
      ]
     },
     "execution_count": 2,
     "metadata": {},
     "output_type": "execute_result"
    }
   ],
   "source": [
    "path = r'C:\\Users\\Nurse Blum\\Instacart Basket Analysis'\n",
    "path"
   ]
  },
  {
   "cell_type": "code",
   "execution_count": 3,
   "id": "30b519ea",
   "metadata": {},
   "outputs": [],
   "source": [
    "df_ords_prods_merged = pd.read_pickle(os.path.join(path, '02 Data', 'Prepared Data', 'orders_products_merged.pkl'))"
   ]
  },
  {
   "cell_type": "code",
   "execution_count": 4,
   "id": "20efe312",
   "metadata": {},
   "outputs": [
    {
     "data": {
      "text/plain": [
       "(30328763, 17)"
      ]
     },
     "execution_count": 4,
     "metadata": {},
     "output_type": "execute_result"
    }
   ],
   "source": [
    "df_ords_prods_merged.shape"
   ]
  },
  {
   "cell_type": "code",
   "execution_count": 4,
   "id": "42aaf4a6",
   "metadata": {},
   "outputs": [],
   "source": [
    "# create a subset\n",
    "df = df_ords_prods_merged [:1000000]"
   ]
  },
  {
   "cell_type": "code",
   "execution_count": 5,
   "id": "d2366c14",
   "metadata": {},
   "outputs": [
    {
     "data": {
      "text/plain": [
       "(1000000, 17)"
      ]
     },
     "execution_count": 5,
     "metadata": {},
     "output_type": "execute_result"
    }
   ],
   "source": [
    "# 1. Complete the instructions \n",
    "df.shape"
   ]
  },
  {
   "cell_type": "code",
   "execution_count": 7,
   "id": "c89bb1d7",
   "metadata": {},
   "outputs": [],
   "source": [
    "# Define a function\n",
    "def price_label(row):\n",
    "\n",
    "  if row['prices'] <= 5:\n",
    "    return 'Low-range product'\n",
    "  elif (row['prices'] > 5) and (row['prices'] <= 15):\n",
    "    return 'Mid-range product'\n",
    "  elif row['prices'] > 15:\n",
    "    return 'High range'\n",
    "  else: return 'Not enough data'"
   ]
  },
  {
   "cell_type": "code",
   "execution_count": 8,
   "id": "e7663f12",
   "metadata": {},
   "outputs": [
    {
     "name": "stderr",
     "output_type": "stream",
     "text": [
      "C:\\Users\\Nurse Blum\\AppData\\Local\\Temp\\ipykernel_19188\\902492192.py:2: SettingWithCopyWarning: \n",
      "A value is trying to be set on a copy of a slice from a DataFrame.\n",
      "Try using .loc[row_indexer,col_indexer] = value instead\n",
      "\n",
      "See the caveats in the documentation: https://pandas.pydata.org/pandas-docs/stable/user_guide/indexing.html#returning-a-view-versus-a-copy\n",
      "  df['price_range'] = df.apply(price_label, axis=1)\n"
     ]
    }
   ],
   "source": [
    "# Apply the function\n",
    "df['price_range'] = df.apply(price_label, axis=1)"
   ]
  },
  {
   "cell_type": "code",
   "execution_count": 9,
   "id": "f0de576b",
   "metadata": {},
   "outputs": [
    {
     "data": {
      "text/plain": [
       "Mid-range product    631969\n",
       "Low-range product    368031\n",
       "Name: price_range, dtype: int64"
      ]
     },
     "execution_count": 9,
     "metadata": {},
     "output_type": "execute_result"
    }
   ],
   "source": [
    "df['price_range'].value_counts(dropna = False)"
   ]
  },
  {
   "cell_type": "code",
   "execution_count": 10,
   "id": "8acc2957",
   "metadata": {},
   "outputs": [
    {
     "data": {
      "text/plain": [
       "14.0"
      ]
     },
     "execution_count": 10,
     "metadata": {},
     "output_type": "execute_result"
    }
   ],
   "source": [
    "df['prices'].max()"
   ]
  },
  {
   "cell_type": "code",
   "execution_count": 11,
   "id": "60d9f051",
   "metadata": {},
   "outputs": [],
   "source": [
    "df_ords_prods_merged.loc[df_ords_prods_merged['prices'] > 15, 'price_range_loc'] = 'High-range product'"
   ]
  },
  {
   "cell_type": "code",
   "execution_count": 12,
   "id": "6f2f30cf",
   "metadata": {},
   "outputs": [],
   "source": [
    "df_ords_prods_merged.loc[(df_ords_prods_merged['prices'] <= 15) & (df['prices'] > 5), 'price_range_loc'] = 'Mid-range product'"
   ]
  },
  {
   "cell_type": "code",
   "execution_count": 13,
   "id": "c3def442",
   "metadata": {},
   "outputs": [],
   "source": [
    "df_ords_prods_merged.loc[df_ords_prods_merged['prices'] <= 5, 'price_range_loc'] = 'Low-range product'"
   ]
  },
  {
   "cell_type": "code",
   "execution_count": 15,
   "id": "6aa55066",
   "metadata": {},
   "outputs": [
    {
     "data": {
      "text/plain": [
       "NaN                   19830175\n",
       "Low-range product      9476774\n",
       "Mid-range product       631969\n",
       "High-range product      389845\n",
       "Name: price_range_loc, dtype: int64"
      ]
     },
     "execution_count": 15,
     "metadata": {},
     "output_type": "execute_result"
    }
   ],
   "source": [
    "df_ords_prods_merged['price_range_loc'].value_counts(dropna = False)"
   ]
  },
  {
   "cell_type": "code",
   "execution_count": 19,
   "id": "616750a2",
   "metadata": {},
   "outputs": [
    {
     "data": {
      "text/plain": [
       "0    5779087\n",
       "1    5303718\n",
       "6    4190948\n",
       "5    3952326\n",
       "2    3947564\n",
       "3    3600589\n",
       "4    3554531\n",
       "Name: orders_day_of_week, dtype: int64"
      ]
     },
     "execution_count": 19,
     "metadata": {},
     "output_type": "execute_result"
    }
   ],
   "source": [
    "df_ords_prods_merged['orders_day_of_week'].value_counts(dropna = False)"
   ]
  },
  {
   "cell_type": "code",
   "execution_count": 47,
   "id": "f8ceaa88",
   "metadata": {},
   "outputs": [
    {
     "data": {
      "text/plain": [
       "Regular busy    20995145\n",
       "Busiest day      5779087\n",
       "Least busy       3554531\n",
       "Name: Busiest days, dtype: int64"
      ]
     },
     "execution_count": 47,
     "metadata": {},
     "output_type": "execute_result"
    }
   ],
   "source": [
    "result = []\n",
    "\n",
    "for value in df_ords_prods_merged['orders_day_of_week']:\n",
    "    if value == 0:\n",
    "        result.append(\"Busiest day\")\n",
    "    elif value == 4:\n",
    "        result.append(\"Least busy\")\n",
    "    else:\n",
    "        result.append(\"Regular busy\")\n",
    "df_ords_prods_merged ['Busiest days'] = result\n",
    "df_ords_prods_merged ['Busiest days'].value_counts(dropna = False)"
   ]
  },
  {
   "cell_type": "code",
   "execution_count": 42,
   "id": "b78ed840",
   "metadata": {},
   "outputs": [
    {
     "data": {
      "text/plain": [
       "Regular busy    12090838\n",
       "Busiest days    11082805\n",
       "Slowest days     7155120\n",
       "Name: Busiest days, dtype: int64"
      ]
     },
     "execution_count": 42,
     "metadata": {},
     "output_type": "execute_result"
    }
   ],
   "source": [
    "# 2. Correspond \"Busiest days\" with the two busiest days and \"slowest days\" with the two least busiest days\n",
    "result = []\n",
    "\n",
    "for value in df_ords_prods_merged['orders_day_of_week']:\n",
    "    if value <= 1:\n",
    "        result.append(\"Busiest days\")\n",
    "    elif value == 3:\n",
    "        result.append(\"Slowest days\")\n",
    "    elif value == 4:\n",
    "        result.append(\"Slowest days\")\n",
    "    else:\n",
    "        result.append(\"Regular busy\")\n",
    "df_ords_prods_merged ['Busiest days'] = result\n",
    "df_ords_prods_merged ['Busiest days'].value_counts(dropna = False)"
   ]
  },
  {
   "cell_type": "code",
   "execution_count": 45,
   "id": "e8031352",
   "metadata": {},
   "outputs": [
    {
     "data": {
      "text/html": [
       "<div>\n",
       "<style scoped>\n",
       "    .dataframe tbody tr th:only-of-type {\n",
       "        vertical-align: middle;\n",
       "    }\n",
       "\n",
       "    .dataframe tbody tr th {\n",
       "        vertical-align: top;\n",
       "    }\n",
       "\n",
       "    .dataframe thead th {\n",
       "        text-align: right;\n",
       "    }\n",
       "</style>\n",
       "<table border=\"1\" class=\"dataframe\">\n",
       "  <thead>\n",
       "    <tr style=\"text-align: right;\">\n",
       "      <th></th>\n",
       "      <th>Busiest days</th>\n",
       "      <th>orders_day_of_week</th>\n",
       "    </tr>\n",
       "  </thead>\n",
       "  <tbody>\n",
       "    <tr>\n",
       "      <th>0</th>\n",
       "      <td>Slowest days</td>\n",
       "      <td>3</td>\n",
       "    </tr>\n",
       "    <tr>\n",
       "      <th>1</th>\n",
       "      <td>Slowest days</td>\n",
       "      <td>3</td>\n",
       "    </tr>\n",
       "    <tr>\n",
       "      <th>2</th>\n",
       "      <td>Slowest days</td>\n",
       "      <td>4</td>\n",
       "    </tr>\n",
       "    <tr>\n",
       "      <th>3</th>\n",
       "      <td>Slowest days</td>\n",
       "      <td>4</td>\n",
       "    </tr>\n",
       "    <tr>\n",
       "      <th>4</th>\n",
       "      <td>Regular busy</td>\n",
       "      <td>2</td>\n",
       "    </tr>\n",
       "  </tbody>\n",
       "</table>\n",
       "</div>"
      ],
      "text/plain": [
       "   Busiest days  orders_day_of_week\n",
       "0  Slowest days                   3\n",
       "1  Slowest days                   3\n",
       "2  Slowest days                   4\n",
       "3  Slowest days                   4\n",
       "4  Regular busy                   2"
      ]
     },
     "execution_count": 45,
     "metadata": {},
     "output_type": "execute_result"
    }
   ],
   "source": [
    "# 3. Check for accuracy\n",
    "df_busiest_days = df_ords_prods_merged[['Busiest days', 'orders_day_of_week']]\n",
    "df_busiest_days.head()"
   ]
  },
  {
   "cell_type": "code",
   "execution_count": 46,
   "id": "c54562ed",
   "metadata": {},
   "outputs": [
    {
     "data": {
      "text/plain": [
       "10    2593725\n",
       "11    2564597\n",
       "14    2517238\n",
       "15    2487586\n",
       "13    2487500\n",
       "12    2445841\n",
       "16    2364969\n",
       "9     2311334\n",
       "17    1943858\n",
       "8     1622394\n",
       "18    1520954\n",
       "19    1169224\n",
       "20     910005\n",
       "7      844665\n",
       "21     746254\n",
       "22     592432\n",
       "23     375889\n",
       "6      274801\n",
       "0      203460\n",
       "1      108110\n",
       "5       82706\n",
       "2       63961\n",
       "4       49400\n",
       "3       47860\n",
       "Name: order_hour_of_day, dtype: int64"
      ]
     },
     "execution_count": 46,
     "metadata": {},
     "output_type": "execute_result"
    }
   ],
   "source": [
    "# 4. Busiest period of the day\n",
    "df_ords_prods_merged['order_hour_of_day'].value_counts(dropna = False)"
   ]
  },
  {
   "cell_type": "code",
   "execution_count": 52,
   "id": "53ee192e",
   "metadata": {},
   "outputs": [
    {
     "data": {
      "text/plain": [
       "Average orders    25073181\n",
       "Most orders        5158322\n",
       "Fewest orders        97260\n",
       "Name: Most Orders, dtype: int64"
      ]
     },
     "execution_count": 52,
     "metadata": {},
     "output_type": "execute_result"
    }
   ],
   "source": [
    "# 5 print frequency\n",
    "result = []\n",
    "\n",
    "for value in df_ords_prods_merged['order_hour_of_day']:\n",
    "    if value == 10:\n",
    "        result.append(\"Most orders\")\n",
    "    elif value == 11:\n",
    "        result.append(\"Most orders\")\n",
    "    elif value == 20:\n",
    "        result.append(\"Average orders\")\n",
    "    elif value == 7:\n",
    "        result.append(\"Average orders\")\n",
    "    elif value == 4:\n",
    "        result.append(\"Fewest orders\")\n",
    "    elif value == 3:\n",
    "        result.append(\"Fewest orders\")\n",
    "    else:\n",
    "        result.append(\"Average orders\")\n",
    "df_ords_prods_merged ['Most Orders'] = result\n",
    "df_ords_prods_merged ['Most Orders'].value_counts(dropna = False)"
   ]
  },
  {
   "cell_type": "code",
   "execution_count": 53,
   "id": "d09a16df",
   "metadata": {},
   "outputs": [],
   "source": [
    "df_ords_prods_merged.to_pickle(os.path.join(path, '02 Data','Prepared Data', 'orders_products_new_var.pkl'))"
   ]
  },
  {
   "cell_type": "code",
   "execution_count": null,
   "id": "4893512d",
   "metadata": {},
   "outputs": [],
   "source": []
  }
 ],
 "metadata": {
  "kernelspec": {
   "display_name": "Python 3 (ipykernel)",
   "language": "python",
   "name": "python3"
  },
  "language_info": {
   "codemirror_mode": {
    "name": "ipython",
    "version": 3
   },
   "file_extension": ".py",
   "mimetype": "text/x-python",
   "name": "python",
   "nbconvert_exporter": "python",
   "pygments_lexer": "ipython3",
   "version": "3.10.9"
  }
 },
 "nbformat": 4,
 "nbformat_minor": 5
}
